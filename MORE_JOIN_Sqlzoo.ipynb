{
  "nbformat": 4,
  "nbformat_minor": 0,
  "metadata": {
    "colab": {
      "name": "MORE JOIN Sqlzoo.ipynb",
      "provenance": [],
      "collapsed_sections": [],
      "authorship_tag": "ABX9TyMp1jXI2AK+9+VjZapoq1cA",
      "include_colab_link": true
    },
    "kernelspec": {
      "name": "python3",
      "display_name": "Python 3"
    }
  },
  "cells": [
    {
      "cell_type": "markdown",
      "metadata": {
        "id": "view-in-github",
        "colab_type": "text"
      },
      "source": [
        "<a href=\"https://colab.research.google.com/github/yashvyas1405/SQLZOO-MORE-JOIN-/blob/main/MORE_JOIN_Sqlzoo.ipynb\" target=\"_parent\"><img src=\"https://colab.research.google.com/assets/colab-badge.svg\" alt=\"Open In Colab\"/></a>"
      ]
    },
    {
      "cell_type": "markdown",
      "metadata": {
        "id": "PWFp5D81nL44"
      },
      "source": [
        "# SQLZOO More join Problems"
      ]
    },
    {
      "cell_type": "markdown",
      "metadata": {
        "id": "FrRiPkx1OjGL"
      },
      "source": [
        "Obtain the cast list for 'Casablanca'.\r\n",
        "\r\n"
      ]
    },
    {
      "cell_type": "code",
      "metadata": {
        "id": "oYF02eJ-Ofav"
      },
      "source": [
        "select name\r\n",
        "from actor join casting\r\n",
        "on actor.id = casting.actorid\r\n",
        "where casting.movieid = 11768"
      ],
      "execution_count": null,
      "outputs": []
    },
    {
      "cell_type": "markdown",
      "metadata": {
        "id": "Ag-YKvbROpay"
      },
      "source": [
        "Obtain the cast list for the film 'Alien'\r\n",
        "\r\n"
      ]
    },
    {
      "cell_type": "code",
      "metadata": {
        "id": "UzN98kRhOsE6"
      },
      "source": [
        "select actor.name\r\n",
        "from actor \r\n",
        "join casting\r\n",
        "on actor.id = casting.actorid\r\n",
        "join movie\r\n",
        "on casting.movieid = movie.id\r\n",
        "where movie.title = 'Alien'"
      ],
      "execution_count": null,
      "outputs": []
    },
    {
      "cell_type": "markdown",
      "metadata": {
        "id": "Zu77MldlOrj4"
      },
      "source": [
        "List the films in which 'Harrison Ford' has appeared\r\n",
        "\r\n"
      ]
    },
    {
      "cell_type": "code",
      "metadata": {
        "id": "3HVH1hI5Owk9"
      },
      "source": [
        "select movie.title\r\n",
        "from movie\r\n",
        "join casting on movie.id = casting.movieid\r\n",
        "join actor on casting.actorid = actor.id\r\n",
        "where actor.name = 'Harrison Ford'"
      ],
      "execution_count": null,
      "outputs": []
    },
    {
      "cell_type": "markdown",
      "metadata": {
        "id": "aDI5PaCGO0vC"
      },
      "source": [
        "List the films where 'Harrison Ford' has appeared - but not in the starring role. [Note: the ord field of casting gives the position of the actor. If ord=1 then this actor is in the starring role]\r\n",
        "\r\n"
      ]
    },
    {
      "cell_type": "code",
      "metadata": {
        "id": "DeznE4MuO1qL"
      },
      "source": [
        "select movie.title\r\n",
        "from movie\r\n",
        "join casting on movie.id = casting.movieid\r\n",
        "join actor on casting.actorid = actor.id\r\n",
        "where actor.name = 'Harrison Ford' and ord!=1"
      ],
      "execution_count": null,
      "outputs": []
    },
    {
      "cell_type": "markdown",
      "metadata": {
        "id": "xLNzLcZlO3bV"
      },
      "source": [
        "List the films together with the leading star for all 1962 films.\r\n",
        "\r\n"
      ]
    },
    {
      "cell_type": "code",
      "metadata": {
        "id": "y5UXcTSKO5vJ"
      },
      "source": [
        "select movie.title, actor.name\r\n",
        "from movie\r\n",
        "join casting on movie.id = casting.movieid\r\n",
        "join actor on casting.actorid = actor.id\r\n",
        "where movie.yr = 1962 and casting.ord=1"
      ],
      "execution_count": null,
      "outputs": []
    },
    {
      "cell_type": "markdown",
      "metadata": {
        "id": "n_bt6lcxO86J"
      },
      "source": [
        "Which were the busiest years for 'Rock Hudson', show the year and the number of movies he made each year for any year in which he made more than 2 movies.\r\n",
        "\r\n"
      ]
    },
    {
      "cell_type": "code",
      "metadata": {
        "id": "yH27lR_TO_I5"
      },
      "source": [
        "SELECT yr,COUNT(title) FROM\r\n",
        "  movie JOIN casting ON movie.id=movieid\r\n",
        "        JOIN actor   ON actorid=actor.id\r\n",
        "WHERE actor.name='Rock Hudson'\r\n",
        "GROUP BY yr\r\n",
        "HAVING COUNT(title) > 2"
      ],
      "execution_count": null,
      "outputs": []
    },
    {
      "cell_type": "markdown",
      "metadata": {
        "id": "izOK40RwPByE"
      },
      "source": [
        "List the film title and the leading actor for all of the films 'Julie Andrews' played in.\r\n",
        "\r\n"
      ]
    },
    {
      "cell_type": "code",
      "metadata": {
        "id": "xajZKIfiPEJO"
      },
      "source": [
        "select movie.title, actor.name\r\n",
        "from movie \r\n",
        "join casting on movie.id = casting.movieid and ord=1 \r\n",
        "join actor on casting.actorid = actor.id\r\n",
        "where casting.movieid in (select casting.movieid\r\n",
        "                          from casting\r\n",
        "                          join actor on actor.id = casting.actorid\r\n",
        "                          where actor.name = 'Julie Andrews')"
      ],
      "execution_count": null,
      "outputs": []
    },
    {
      "cell_type": "markdown",
      "metadata": {
        "id": "zGmod4uMPG_O"
      },
      "source": [
        "Obtain a list, in alphabetical order, of actors who've had at least 15 starring roles.\r\n",
        "\r\n"
      ]
    },
    {
      "cell_type": "code",
      "metadata": {
        "id": "1xyqOfowVBJh"
      },
      "source": [
        "select actor.name\r\n",
        "from actor\r\n",
        "join casting on (casting.actorid = actor.id and (select count(casting.ord) from casting where actor.id = casting.actorid and ord = 1)>=15)\r\n",
        "group by actor.name"
      ],
      "execution_count": null,
      "outputs": []
    },
    {
      "cell_type": "markdown",
      "metadata": {
        "id": "6GHQhMsmfibw"
      },
      "source": [
        "List the films released in the year 1978 ordered by the number of actors in the cast, then by title.\r\n",
        "\r\n"
      ]
    },
    {
      "cell_type": "code",
      "metadata": {
        "id": "oqx-TmwLflFV"
      },
      "source": [
        "select movie.title, count(actorid)\r\n",
        "from movie\r\n",
        "join casting on movie.id = casting.movieid\r\n",
        "where movie.yr = 1978\r\n",
        "group by movie.title\r\n",
        "order by count(actorid) desc, movie.title asc"
      ],
      "execution_count": null,
      "outputs": []
    },
    {
      "cell_type": "markdown",
      "metadata": {
        "id": "OKaRRWjTnDR4"
      },
      "source": [
        "List all the people who have worked with 'Art Garfunkel'.\r\n",
        "\r\n"
      ]
    },
    {
      "cell_type": "code",
      "metadata": {
        "id": "4c8u_7O0nFe4"
      },
      "source": [
        "select distinct(actor.name)\r\n",
        "from actor\r\n",
        "join casting on actor.id = casting.actorid\r\n",
        "where movieid in(select movieid\r\n",
        "                  from casting\r\n",
        "                  join actor on casting.actorid = actor.id \r\n",
        "                  where actor.name = 'Art Garfunkel')\r\n",
        "and actor.name != 'Art Garfunkel'"
      ],
      "execution_count": null,
      "outputs": []
    }
  ]
}